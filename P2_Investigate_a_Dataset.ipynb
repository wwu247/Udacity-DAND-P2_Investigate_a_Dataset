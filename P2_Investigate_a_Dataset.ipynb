{
 "cells": [
  {
   "cell_type": "markdown",
   "metadata": {},
   "source": [
    "# Project 2: Titanic Dataset Investigation\n",
    "## By Wenny Wu"
   ]
  },
  {
   "cell_type": "code",
   "execution_count": 1,
   "metadata": {
    "collapsed": true
   },
   "outputs": [],
   "source": [
    "import csv as csv\n",
    "import numpy as np\n",
    "import pandas as pd\n",
    "import seaborn as sns\n",
    "import matplotlib.pyplot as plt"
   ]
  },
  {
   "cell_type": "code",
   "execution_count": 2,
   "metadata": {
    "collapsed": true
   },
   "outputs": [],
   "source": [
    "# read Titanic data into a pandas dataframe\n",
    "df = pd.read_csv('titanic_data.csv', header=0)"
   ]
  },
  {
   "cell_type": "code",
   "execution_count": 3,
   "metadata": {
    "collapsed": false
   },
   "outputs": [
    {
     "data": {
      "text/html": [
       "<div>\n",
       "<table border=\"1\" class=\"dataframe\">\n",
       "  <thead>\n",
       "    <tr style=\"text-align: right;\">\n",
       "      <th></th>\n",
       "      <th>PassengerId</th>\n",
       "      <th>Survived</th>\n",
       "      <th>Pclass</th>\n",
       "      <th>Name</th>\n",
       "      <th>Sex</th>\n",
       "      <th>Age</th>\n",
       "      <th>SibSp</th>\n",
       "      <th>Parch</th>\n",
       "      <th>Ticket</th>\n",
       "      <th>Fare</th>\n",
       "      <th>Cabin</th>\n",
       "      <th>Embarked</th>\n",
       "    </tr>\n",
       "  </thead>\n",
       "  <tbody>\n",
       "    <tr>\n",
       "      <th>0</th>\n",
       "      <td>1</td>\n",
       "      <td>0</td>\n",
       "      <td>3</td>\n",
       "      <td>Braund, Mr. Owen Harris</td>\n",
       "      <td>male</td>\n",
       "      <td>22.0</td>\n",
       "      <td>1</td>\n",
       "      <td>0</td>\n",
       "      <td>A/5 21171</td>\n",
       "      <td>7.2500</td>\n",
       "      <td>NaN</td>\n",
       "      <td>S</td>\n",
       "    </tr>\n",
       "    <tr>\n",
       "      <th>1</th>\n",
       "      <td>2</td>\n",
       "      <td>1</td>\n",
       "      <td>1</td>\n",
       "      <td>Cumings, Mrs. John Bradley (Florence Briggs Th...</td>\n",
       "      <td>female</td>\n",
       "      <td>38.0</td>\n",
       "      <td>1</td>\n",
       "      <td>0</td>\n",
       "      <td>PC 17599</td>\n",
       "      <td>71.2833</td>\n",
       "      <td>C85</td>\n",
       "      <td>C</td>\n",
       "    </tr>\n",
       "    <tr>\n",
       "      <th>2</th>\n",
       "      <td>3</td>\n",
       "      <td>1</td>\n",
       "      <td>3</td>\n",
       "      <td>Heikkinen, Miss. Laina</td>\n",
       "      <td>female</td>\n",
       "      <td>26.0</td>\n",
       "      <td>0</td>\n",
       "      <td>0</td>\n",
       "      <td>STON/O2. 3101282</td>\n",
       "      <td>7.9250</td>\n",
       "      <td>NaN</td>\n",
       "      <td>S</td>\n",
       "    </tr>\n",
       "    <tr>\n",
       "      <th>3</th>\n",
       "      <td>4</td>\n",
       "      <td>1</td>\n",
       "      <td>1</td>\n",
       "      <td>Futrelle, Mrs. Jacques Heath (Lily May Peel)</td>\n",
       "      <td>female</td>\n",
       "      <td>35.0</td>\n",
       "      <td>1</td>\n",
       "      <td>0</td>\n",
       "      <td>113803</td>\n",
       "      <td>53.1000</td>\n",
       "      <td>C123</td>\n",
       "      <td>S</td>\n",
       "    </tr>\n",
       "    <tr>\n",
       "      <th>4</th>\n",
       "      <td>5</td>\n",
       "      <td>0</td>\n",
       "      <td>3</td>\n",
       "      <td>Allen, Mr. William Henry</td>\n",
       "      <td>male</td>\n",
       "      <td>35.0</td>\n",
       "      <td>0</td>\n",
       "      <td>0</td>\n",
       "      <td>373450</td>\n",
       "      <td>8.0500</td>\n",
       "      <td>NaN</td>\n",
       "      <td>S</td>\n",
       "    </tr>\n",
       "  </tbody>\n",
       "</table>\n",
       "</div>"
      ],
      "text/plain": [
       "   PassengerId  Survived  Pclass  \\\n",
       "0            1         0       3   \n",
       "1            2         1       1   \n",
       "2            3         1       3   \n",
       "3            4         1       1   \n",
       "4            5         0       3   \n",
       "\n",
       "                                                Name     Sex   Age  SibSp  \\\n",
       "0                            Braund, Mr. Owen Harris    male  22.0      1   \n",
       "1  Cumings, Mrs. John Bradley (Florence Briggs Th...  female  38.0      1   \n",
       "2                             Heikkinen, Miss. Laina  female  26.0      0   \n",
       "3       Futrelle, Mrs. Jacques Heath (Lily May Peel)  female  35.0      1   \n",
       "4                           Allen, Mr. William Henry    male  35.0      0   \n",
       "\n",
       "   Parch            Ticket     Fare Cabin Embarked  \n",
       "0      0         A/5 21171   7.2500   NaN        S  \n",
       "1      0          PC 17599  71.2833   C85        C  \n",
       "2      0  STON/O2. 3101282   7.9250   NaN        S  \n",
       "3      0            113803  53.1000  C123        S  \n",
       "4      0            373450   8.0500   NaN        S  "
      ]
     },
     "execution_count": 3,
     "metadata": {},
     "output_type": "execute_result"
    }
   ],
   "source": [
    "# preview the data\n",
    "df.head()"
   ]
  },
  {
   "cell_type": "markdown",
   "metadata": {},
   "source": [
    "# What factors gave passengers greater likelihood of survival?\n",
    "\n",
    "## How many passengers survived?"
   ]
  },
  {
   "cell_type": "code",
   "execution_count": 18,
   "metadata": {
    "collapsed": false
   },
   "outputs": [
    {
     "data": {
      "text/html": [
       "<div>\n",
       "<table border=\"1\" class=\"dataframe\">\n",
       "  <thead>\n",
       "    <tr style=\"text-align: right;\">\n",
       "      <th></th>\n",
       "      <th>PassengerId</th>\n",
       "      <th>Survived</th>\n",
       "      <th>Pclass</th>\n",
       "      <th>Name</th>\n",
       "      <th>Sex</th>\n",
       "      <th>Age</th>\n",
       "      <th>SibSp</th>\n",
       "      <th>Parch</th>\n",
       "      <th>Ticket</th>\n",
       "      <th>Fare</th>\n",
       "      <th>Cabin</th>\n",
       "      <th>Embarked</th>\n",
       "    </tr>\n",
       "  </thead>\n",
       "  <tbody>\n",
       "  </tbody>\n",
       "</table>\n",
       "</div>"
      ],
      "text/plain": [
       "Empty DataFrame\n",
       "Columns: [PassengerId, Survived, Pclass, Name, Sex, Age, SibSp, Parch, Ticket, Fare, Cabin, Embarked]\n",
       "Index: []"
      ]
     },
     "execution_count": 18,
     "metadata": {},
     "output_type": "execute_result"
    }
   ],
   "source": [
    "# Check for null values\n",
    "df[df['Survived'].isnull()]"
   ]
  },
  {
   "cell_type": "code",
   "execution_count": 3,
   "metadata": {
    "collapsed": false
   },
   "outputs": [],
   "source": [
    "# total number survivors and non-survivors\n",
    "n_surv = len(df[df[\"Survived\"] == 1])\n",
    "n_died = len(df[df[\"Survived\"] == 0])"
   ]
  },
  {
   "cell_type": "code",
   "execution_count": 4,
   "metadata": {
    "collapsed": false
   },
   "outputs": [],
   "source": [
    "# proportion survivors and non-survivors\n",
    "p_surv = float(n_surv)/float(len(df))\n",
    "p_died = float(n_died)/float(len(df))"
   ]
  },
  {
   "cell_type": "code",
   "execution_count": 5,
   "metadata": {
    "collapsed": false
   },
   "outputs": [
    {
     "data": {
      "text/html": [
       "<div>\n",
       "<table border=\"1\" class=\"dataframe\">\n",
       "  <thead>\n",
       "    <tr style=\"text-align: right;\">\n",
       "      <th></th>\n",
       "      <th>Passenger Total</th>\n",
       "      <th>Number Survived</th>\n",
       "      <th>Number Died</th>\n",
       "      <th>Proportion Survived</th>\n",
       "      <th>Proportion Died</th>\n",
       "    </tr>\n",
       "  </thead>\n",
       "  <tbody>\n",
       "    <tr>\n",
       "      <th>Passengers</th>\n",
       "      <td>891</td>\n",
       "      <td>342</td>\n",
       "      <td>549</td>\n",
       "      <td>0.38</td>\n",
       "      <td>0.62</td>\n",
       "    </tr>\n",
       "  </tbody>\n",
       "</table>\n",
       "</div>"
      ],
      "text/plain": [
       "            Passenger Total  Number Survived  Number Died  \\\n",
       "Passengers              891              342          549   \n",
       "\n",
       "            Proportion Survived  Proportion Died  \n",
       "Passengers                 0.38             0.62  "
      ]
     },
     "execution_count": 5,
     "metadata": {},
     "output_type": "execute_result"
    }
   ],
   "source": [
    "# Summary of survival rate of all passengers\n",
    "df_surv = pd.DataFrame(\n",
    "    data=[[len(df), n_surv, n_died, round(p_surv,2), round(p_died,2)],],\n",
    "    index=['Passengers'],\n",
    "    columns=['Passenger Total', 'Number Survived', 'Number Died', 'Proportion Survived', 'Proportion Died'])\n",
    "\n",
    "df_surv"
   ]
  },
  {
   "cell_type": "markdown",
   "metadata": {},
   "source": [
    "## What percentage of men and women survived?"
   ]
  },
  {
   "cell_type": "code",
   "execution_count": 19,
   "metadata": {
    "collapsed": false
   },
   "outputs": [
    {
     "data": {
      "text/html": [
       "<div>\n",
       "<table border=\"1\" class=\"dataframe\">\n",
       "  <thead>\n",
       "    <tr style=\"text-align: right;\">\n",
       "      <th></th>\n",
       "      <th>PassengerId</th>\n",
       "      <th>Survived</th>\n",
       "      <th>Pclass</th>\n",
       "      <th>Name</th>\n",
       "      <th>Sex</th>\n",
       "      <th>Age</th>\n",
       "      <th>SibSp</th>\n",
       "      <th>Parch</th>\n",
       "      <th>Ticket</th>\n",
       "      <th>Fare</th>\n",
       "      <th>Cabin</th>\n",
       "      <th>Embarked</th>\n",
       "    </tr>\n",
       "  </thead>\n",
       "  <tbody>\n",
       "  </tbody>\n",
       "</table>\n",
       "</div>"
      ],
      "text/plain": [
       "Empty DataFrame\n",
       "Columns: [PassengerId, Survived, Pclass, Name, Sex, Age, SibSp, Parch, Ticket, Fare, Cabin, Embarked]\n",
       "Index: []"
      ]
     },
     "execution_count": 19,
     "metadata": {},
     "output_type": "execute_result"
    }
   ],
   "source": [
    "# Check for null values\n",
    "df[df['Sex'].isnull()]"
   ]
  },
  {
   "cell_type": "code",
   "execution_count": 6,
   "metadata": {
    "collapsed": false
   },
   "outputs": [],
   "source": [
    "# total number of female passengers and male passengers\n",
    "n_women = len(df[df[\"Sex\"] == \"female\"])\n",
    "n_men = len(df[df[\"Sex\"] == \"male\"])\n",
    "\n",
    "n_s = df.groupby(\"Sex\")[\"Survived\"].sum()\n",
    "s_women = n_s[\"female\"]\n",
    "s_men = n_s[\"male\"]"
   ]
  },
  {
   "cell_type": "code",
   "execution_count": 7,
   "metadata": {
    "collapsed": false
   },
   "outputs": [],
   "source": [
    "# proportion survivors\n",
    "prop_s = df.groupby(\"Sex\")[\"Survived\"].mean()\n",
    "ps_women = round(prop_s[\"female\"],2)\n",
    "ps_men = round(prop_s[\"male\"],2)"
   ]
  },
  {
   "cell_type": "code",
   "execution_count": 8,
   "metadata": {
    "collapsed": false
   },
   "outputs": [
    {
     "data": {
      "text/html": [
       "<div>\n",
       "<table border=\"1\" class=\"dataframe\">\n",
       "  <thead>\n",
       "    <tr style=\"text-align: right;\">\n",
       "      <th></th>\n",
       "      <th>Passenger Total</th>\n",
       "      <th>Number Survived</th>\n",
       "      <th>Number Died</th>\n",
       "      <th>Proportion Survived</th>\n",
       "      <th>Proportion Died</th>\n",
       "    </tr>\n",
       "  </thead>\n",
       "  <tbody>\n",
       "    <tr>\n",
       "      <th>Passengers</th>\n",
       "      <td>891</td>\n",
       "      <td>342</td>\n",
       "      <td>549</td>\n",
       "      <td>0.38</td>\n",
       "      <td>0.62</td>\n",
       "    </tr>\n",
       "    <tr>\n",
       "      <th>Female</th>\n",
       "      <td>314</td>\n",
       "      <td>233</td>\n",
       "      <td>81</td>\n",
       "      <td>0.74</td>\n",
       "      <td>0.26</td>\n",
       "    </tr>\n",
       "    <tr>\n",
       "      <th>Male</th>\n",
       "      <td>577</td>\n",
       "      <td>109</td>\n",
       "      <td>468</td>\n",
       "      <td>0.19</td>\n",
       "      <td>0.81</td>\n",
       "    </tr>\n",
       "  </tbody>\n",
       "</table>\n",
       "</div>"
      ],
      "text/plain": [
       "            Passenger Total  Number Survived  Number Died  \\\n",
       "Passengers              891              342          549   \n",
       "Female                  314              233           81   \n",
       "Male                    577              109          468   \n",
       "\n",
       "            Proportion Survived  Proportion Died  \n",
       "Passengers                 0.38             0.62  \n",
       "Female                     0.74             0.26  \n",
       "Male                       0.19             0.81  "
      ]
     },
     "execution_count": 8,
     "metadata": {},
     "output_type": "execute_result"
    }
   ],
   "source": [
    "# Summary of survival of male and female passengers\n",
    "df_fm = pd.DataFrame(\n",
    "    data=[[n_women, s_women, n_women-s_women, ps_women, 1-ps_women],\n",
    "        [n_men, s_men, n_men-s_men, ps_men, 1-ps_men],],\n",
    "    index=['Female', 'Male'],\n",
    "    columns=['Passenger Total', 'Number Survived', 'Number Died', 'Proportion Survived', 'Proportion Died'])\n",
    "\n",
    "df_surv = df_surv.append(df_fm)\n",
    "df_surv"
   ]
  },
  {
   "cell_type": "markdown",
   "metadata": {},
   "source": [
    "## What was the survival rate for each passenger class?"
   ]
  },
  {
   "cell_type": "code",
   "execution_count": 21,
   "metadata": {
    "collapsed": false
   },
   "outputs": [
    {
     "data": {
      "text/html": [
       "<div>\n",
       "<table border=\"1\" class=\"dataframe\">\n",
       "  <thead>\n",
       "    <tr style=\"text-align: right;\">\n",
       "      <th></th>\n",
       "      <th>PassengerId</th>\n",
       "      <th>Survived</th>\n",
       "      <th>Pclass</th>\n",
       "      <th>Name</th>\n",
       "      <th>Sex</th>\n",
       "      <th>Age</th>\n",
       "      <th>SibSp</th>\n",
       "      <th>Parch</th>\n",
       "      <th>Ticket</th>\n",
       "      <th>Fare</th>\n",
       "      <th>Cabin</th>\n",
       "      <th>Embarked</th>\n",
       "    </tr>\n",
       "  </thead>\n",
       "  <tbody>\n",
       "  </tbody>\n",
       "</table>\n",
       "</div>"
      ],
      "text/plain": [
       "Empty DataFrame\n",
       "Columns: [PassengerId, Survived, Pclass, Name, Sex, Age, SibSp, Parch, Ticket, Fare, Cabin, Embarked]\n",
       "Index: []"
      ]
     },
     "execution_count": 21,
     "metadata": {},
     "output_type": "execute_result"
    }
   ],
   "source": [
    "# Check for null values\n",
    "df[df['Pclass'].isnull()]"
   ]
  },
  {
   "cell_type": "code",
   "execution_count": 9,
   "metadata": {
    "collapsed": false
   },
   "outputs": [],
   "source": [
    "# total number of passengers first class, second class, and third class\n",
    "n_c1 = len(df[df[\"Pclass\"] == 1])\n",
    "n_c2 = len(df[df[\"Pclass\"] == 2])\n",
    "n_c3 = len(df[df[\"Pclass\"] == 3])"
   ]
  },
  {
   "cell_type": "code",
   "execution_count": 10,
   "metadata": {
    "collapsed": false
   },
   "outputs": [],
   "source": [
    "# number of survivors from first class, second class, and third class\n",
    "n_class = df.groupby(\"Pclass\").sum()\n",
    "s_c1 = n_class[\"Survived\"][1]\n",
    "s_c2 = n_class[\"Survived\"][2]\n",
    "s_c3 = n_class[\"Survived\"][3]"
   ]
  },
  {
   "cell_type": "code",
   "execution_count": 11,
   "metadata": {
    "collapsed": false
   },
   "outputs": [],
   "source": [
    "# proportion survivors\n",
    "ps_class = df.groupby(\"Pclass\").mean()\n",
    "ps_c1 = round(ps_class[\"Survived\"][1], 2)\n",
    "ps_c2 = round(ps_class[\"Survived\"][2], 2)\n",
    "ps_c3 = round(ps_class[\"Survived\"][3], 2)"
   ]
  },
  {
   "cell_type": "code",
   "execution_count": 12,
   "metadata": {
    "collapsed": false
   },
   "outputs": [
    {
     "data": {
      "text/html": [
       "<div>\n",
       "<table border=\"1\" class=\"dataframe\">\n",
       "  <thead>\n",
       "    <tr style=\"text-align: right;\">\n",
       "      <th></th>\n",
       "      <th>Passenger Total</th>\n",
       "      <th>Number Survived</th>\n",
       "      <th>Number Died</th>\n",
       "      <th>Proportion Survived</th>\n",
       "      <th>Proportion Died</th>\n",
       "    </tr>\n",
       "  </thead>\n",
       "  <tbody>\n",
       "    <tr>\n",
       "      <th>Passengers</th>\n",
       "      <td>891</td>\n",
       "      <td>342</td>\n",
       "      <td>549</td>\n",
       "      <td>0.38</td>\n",
       "      <td>0.62</td>\n",
       "    </tr>\n",
       "    <tr>\n",
       "      <th>Female</th>\n",
       "      <td>314</td>\n",
       "      <td>233</td>\n",
       "      <td>81</td>\n",
       "      <td>0.74</td>\n",
       "      <td>0.26</td>\n",
       "    </tr>\n",
       "    <tr>\n",
       "      <th>Male</th>\n",
       "      <td>577</td>\n",
       "      <td>109</td>\n",
       "      <td>468</td>\n",
       "      <td>0.19</td>\n",
       "      <td>0.81</td>\n",
       "    </tr>\n",
       "    <tr>\n",
       "      <th>First Class</th>\n",
       "      <td>216</td>\n",
       "      <td>136</td>\n",
       "      <td>80</td>\n",
       "      <td>0.63</td>\n",
       "      <td>0.37</td>\n",
       "    </tr>\n",
       "    <tr>\n",
       "      <th>Second Class</th>\n",
       "      <td>184</td>\n",
       "      <td>87</td>\n",
       "      <td>97</td>\n",
       "      <td>0.47</td>\n",
       "      <td>0.53</td>\n",
       "    </tr>\n",
       "    <tr>\n",
       "      <th>Third Class</th>\n",
       "      <td>491</td>\n",
       "      <td>119</td>\n",
       "      <td>372</td>\n",
       "      <td>0.24</td>\n",
       "      <td>0.76</td>\n",
       "    </tr>\n",
       "  </tbody>\n",
       "</table>\n",
       "</div>"
      ],
      "text/plain": [
       "              Passenger Total  Number Survived  Number Died  \\\n",
       "Passengers                891              342          549   \n",
       "Female                    314              233           81   \n",
       "Male                      577              109          468   \n",
       "First Class               216              136           80   \n",
       "Second Class              184               87           97   \n",
       "Third Class               491              119          372   \n",
       "\n",
       "              Proportion Survived  Proportion Died  \n",
       "Passengers                   0.38             0.62  \n",
       "Female                       0.74             0.26  \n",
       "Male                         0.19             0.81  \n",
       "First Class                  0.63             0.37  \n",
       "Second Class                 0.47             0.53  \n",
       "Third Class                  0.24             0.76  "
      ]
     },
     "execution_count": 12,
     "metadata": {},
     "output_type": "execute_result"
    }
   ],
   "source": [
    "# Summary of survival of first class, second class, and third class passengers\n",
    "df_class = pd.DataFrame(\n",
    "    data=[[n_c1, s_c1, n_c1-s_c1, ps_c1, 1-ps_c1],\n",
    "          [n_c2, s_c2, n_c2-s_c2, ps_c2, 1-ps_c2],\n",
    "          [n_c3, s_c3, n_c3-s_c3, ps_c3, 1-ps_c3],],\n",
    "    index=['First Class', 'Second Class', 'Third Class'],\n",
    "    columns=['Passenger Total', 'Number Survived', 'Number Died', 'Proportion Survived', 'Proportion Died'])\n",
    "\n",
    "df_surv = df_surv.append(df_class)\n",
    "df_surv"
   ]
  },
  {
   "cell_type": "code",
   "execution_count": 79,
   "metadata": {
    "collapsed": false
   },
   "outputs": [
    {
     "name": "stdout",
     "output_type": "stream",
     "text": [
      "Populating the interactive namespace from numpy and matplotlib\n"
     ]
    },
    {
     "name": "stderr",
     "output_type": "stream",
     "text": [
      "WARNING: pylab import has clobbered these variables: ['axes']\n",
      "`%matplotlib` prevents importing * from pylab and numpy\n"
     ]
    }
   ],
   "source": [
    "%pylab inline"
   ]
  },
  {
   "cell_type": "code",
   "execution_count": 83,
   "metadata": {
    "collapsed": false
   },
   "outputs": [
    {
     "data": {
      "text/plain": [
       "[<matplotlib.text.Text at 0xcf0a3c8>,\n",
       " <matplotlib.text.Text at 0xc4b5ef0>,\n",
       " <matplotlib.text.Text at 0xd489908>]"
      ]
     },
     "execution_count": 83,
     "metadata": {},
     "output_type": "execute_result"
    },
    {
     "data": {
      "image/png": "[encoded data removed]",
      "text/plain": [
       "<matplotlib.figure.Figure at 0xc7a2438>"
      ]
     },
     "metadata": {},
     "output_type": "display_data"
    }
   ],
   "source": [
    "class_s = df.groupby(['Pclass', 'Survived']).apply(len).reset_index()\n",
    "p = sns.barplot(data = class_s, x = 'Pclass', y = 0, hue = 'Survived')\n",
    "p.set_xticklabels(['First Class', 'Second Class', 'Third Class'])\n",
    "p.set(xlabel = '', ylabel = 'Passenger Counts', title = 'Class Survival Counts')"
   ]
  },
  {
   "cell_type": "markdown",
   "metadata": {},
   "source": [
    "## Insights regarding survival rates based on gender and passenger class:\n",
    "\n",
    "### Female passengers were clearly more likely to survive. Passenger class also had a significant influence on survival rates, with first class passengers far more likely to survive over third class passengers."
   ]
  },
  {
   "cell_type": "markdown",
   "metadata": {},
   "source": [
    "## What do the age distributions look like?"
   ]
  },
  {
   "cell_type": "code",
   "execution_count": 77,
   "metadata": {
    "collapsed": false
   },
   "outputs": [
    {
     "data": {
      "text/html": [
       "<div>\n",
       "<table border=\"1\" class=\"dataframe\">\n",
       "  <thead>\n",
       "    <tr style=\"text-align: right;\">\n",
       "      <th></th>\n",
       "      <th>Sex</th>\n",
       "      <th>Pclass</th>\n",
       "      <th>Age</th>\n",
       "    </tr>\n",
       "  </thead>\n",
       "  <tbody>\n",
       "    <tr>\n",
       "      <th>17</th>\n",
       "      <td>male</td>\n",
       "      <td>2</td>\n",
       "      <td>NaN</td>\n",
       "    </tr>\n",
       "    <tr>\n",
       "      <th>19</th>\n",
       "      <td>female</td>\n",
       "      <td>3</td>\n",
       "      <td>NaN</td>\n",
       "    </tr>\n",
       "    <tr>\n",
       "      <th>26</th>\n",
       "      <td>male</td>\n",
       "      <td>3</td>\n",
       "      <td>NaN</td>\n",
       "    </tr>\n",
       "    <tr>\n",
       "      <th>28</th>\n",
       "      <td>female</td>\n",
       "      <td>3</td>\n",
       "      <td>NaN</td>\n",
       "    </tr>\n",
       "    <tr>\n",
       "      <th>29</th>\n",
       "      <td>male</td>\n",
       "      <td>3</td>\n",
       "      <td>NaN</td>\n",
       "    </tr>\n",
       "    <tr>\n",
       "      <th>31</th>\n",
       "      <td>female</td>\n",
       "      <td>1</td>\n",
       "      <td>NaN</td>\n",
       "    </tr>\n",
       "    <tr>\n",
       "      <th>32</th>\n",
       "      <td>female</td>\n",
       "      <td>3</td>\n",
       "      <td>NaN</td>\n",
       "    </tr>\n",
       "    <tr>\n",
       "      <th>36</th>\n",
       "      <td>male</td>\n",
       "      <td>3</td>\n",
       "      <td>NaN</td>\n",
       "    </tr>\n",
       "    <tr>\n",
       "      <th>42</th>\n",
       "      <td>male</td>\n",
       "      <td>3</td>\n",
       "      <td>NaN</td>\n",
       "    </tr>\n",
       "    <tr>\n",
       "      <th>45</th>\n",
       "      <td>male</td>\n",
       "      <td>3</td>\n",
       "      <td>NaN</td>\n",
       "    </tr>\n",
       "    <tr>\n",
       "      <th>46</th>\n",
       "      <td>male</td>\n",
       "      <td>3</td>\n",
       "      <td>NaN</td>\n",
       "    </tr>\n",
       "    <tr>\n",
       "      <th>47</th>\n",
       "      <td>female</td>\n",
       "      <td>3</td>\n",
       "      <td>NaN</td>\n",
       "    </tr>\n",
       "    <tr>\n",
       "      <th>48</th>\n",
       "      <td>male</td>\n",
       "      <td>3</td>\n",
       "      <td>NaN</td>\n",
       "    </tr>\n",
       "    <tr>\n",
       "      <th>55</th>\n",
       "      <td>male</td>\n",
       "      <td>1</td>\n",
       "      <td>NaN</td>\n",
       "    </tr>\n",
       "    <tr>\n",
       "      <th>64</th>\n",
       "      <td>male</td>\n",
       "      <td>1</td>\n",
       "      <td>NaN</td>\n",
       "    </tr>\n",
       "    <tr>\n",
       "      <th>65</th>\n",
       "      <td>male</td>\n",
       "      <td>3</td>\n",
       "      <td>NaN</td>\n",
       "    </tr>\n",
       "    <tr>\n",
       "      <th>76</th>\n",
       "      <td>male</td>\n",
       "      <td>3</td>\n",
       "      <td>NaN</td>\n",
       "    </tr>\n",
       "    <tr>\n",
       "      <th>77</th>\n",
       "      <td>male</td>\n",
       "      <td>3</td>\n",
       "      <td>NaN</td>\n",
       "    </tr>\n",
       "    <tr>\n",
       "      <th>82</th>\n",
       "      <td>female</td>\n",
       "      <td>3</td>\n",
       "      <td>NaN</td>\n",
       "    </tr>\n",
       "    <tr>\n",
       "      <th>87</th>\n",
       "      <td>male</td>\n",
       "      <td>3</td>\n",
       "      <td>NaN</td>\n",
       "    </tr>\n",
       "    <tr>\n",
       "      <th>95</th>\n",
       "      <td>male</td>\n",
       "      <td>3</td>\n",
       "      <td>NaN</td>\n",
       "    </tr>\n",
       "    <tr>\n",
       "      <th>101</th>\n",
       "      <td>male</td>\n",
       "      <td>3</td>\n",
       "      <td>NaN</td>\n",
       "    </tr>\n",
       "    <tr>\n",
       "      <th>107</th>\n",
       "      <td>male</td>\n",
       "      <td>3</td>\n",
       "      <td>NaN</td>\n",
       "    </tr>\n",
       "    <tr>\n",
       "      <th>109</th>\n",
       "      <td>female</td>\n",
       "      <td>3</td>\n",
       "      <td>NaN</td>\n",
       "    </tr>\n",
       "    <tr>\n",
       "      <th>121</th>\n",
       "      <td>male</td>\n",
       "      <td>3</td>\n",
       "      <td>NaN</td>\n",
       "    </tr>\n",
       "    <tr>\n",
       "      <th>126</th>\n",
       "      <td>male</td>\n",
       "      <td>3</td>\n",
       "      <td>NaN</td>\n",
       "    </tr>\n",
       "    <tr>\n",
       "      <th>128</th>\n",
       "      <td>female</td>\n",
       "      <td>3</td>\n",
       "      <td>NaN</td>\n",
       "    </tr>\n",
       "    <tr>\n",
       "      <th>140</th>\n",
       "      <td>female</td>\n",
       "      <td>3</td>\n",
       "      <td>NaN</td>\n",
       "    </tr>\n",
       "    <tr>\n",
       "      <th>154</th>\n",
       "      <td>male</td>\n",
       "      <td>3</td>\n",
       "      <td>NaN</td>\n",
       "    </tr>\n",
       "    <tr>\n",
       "      <th>158</th>\n",
       "      <td>male</td>\n",
       "      <td>3</td>\n",
       "      <td>NaN</td>\n",
       "    </tr>\n",
       "    <tr>\n",
       "      <th>...</th>\n",
       "      <td>...</td>\n",
       "      <td>...</td>\n",
       "      <td>...</td>\n",
       "    </tr>\n",
       "    <tr>\n",
       "      <th>718</th>\n",
       "      <td>male</td>\n",
       "      <td>3</td>\n",
       "      <td>NaN</td>\n",
       "    </tr>\n",
       "    <tr>\n",
       "      <th>727</th>\n",
       "      <td>female</td>\n",
       "      <td>3</td>\n",
       "      <td>NaN</td>\n",
       "    </tr>\n",
       "    <tr>\n",
       "      <th>732</th>\n",
       "      <td>male</td>\n",
       "      <td>2</td>\n",
       "      <td>NaN</td>\n",
       "    </tr>\n",
       "    <tr>\n",
       "      <th>738</th>\n",
       "      <td>male</td>\n",
       "      <td>3</td>\n",
       "      <td>NaN</td>\n",
       "    </tr>\n",
       "    <tr>\n",
       "      <th>739</th>\n",
       "      <td>male</td>\n",
       "      <td>3</td>\n",
       "      <td>NaN</td>\n",
       "    </tr>\n",
       "    <tr>\n",
       "      <th>740</th>\n",
       "      <td>male</td>\n",
       "      <td>1</td>\n",
       "      <td>NaN</td>\n",
       "    </tr>\n",
       "    <tr>\n",
       "      <th>760</th>\n",
       "      <td>male</td>\n",
       "      <td>3</td>\n",
       "      <td>NaN</td>\n",
       "    </tr>\n",
       "    <tr>\n",
       "      <th>766</th>\n",
       "      <td>male</td>\n",
       "      <td>1</td>\n",
       "      <td>NaN</td>\n",
       "    </tr>\n",
       "    <tr>\n",
       "      <th>768</th>\n",
       "      <td>male</td>\n",
       "      <td>3</td>\n",
       "      <td>NaN</td>\n",
       "    </tr>\n",
       "    <tr>\n",
       "      <th>773</th>\n",
       "      <td>male</td>\n",
       "      <td>3</td>\n",
       "      <td>NaN</td>\n",
       "    </tr>\n",
       "    <tr>\n",
       "      <th>776</th>\n",
       "      <td>male</td>\n",
       "      <td>3</td>\n",
       "      <td>NaN</td>\n",
       "    </tr>\n",
       "    <tr>\n",
       "      <th>778</th>\n",
       "      <td>male</td>\n",
       "      <td>3</td>\n",
       "      <td>NaN</td>\n",
       "    </tr>\n",
       "    <tr>\n",
       "      <th>783</th>\n",
       "      <td>male</td>\n",
       "      <td>3</td>\n",
       "      <td>NaN</td>\n",
       "    </tr>\n",
       "    <tr>\n",
       "      <th>790</th>\n",
       "      <td>male</td>\n",
       "      <td>3</td>\n",
       "      <td>NaN</td>\n",
       "    </tr>\n",
       "    <tr>\n",
       "      <th>792</th>\n",
       "      <td>female</td>\n",
       "      <td>3</td>\n",
       "      <td>NaN</td>\n",
       "    </tr>\n",
       "    <tr>\n",
       "      <th>793</th>\n",
       "      <td>male</td>\n",
       "      <td>1</td>\n",
       "      <td>NaN</td>\n",
       "    </tr>\n",
       "    <tr>\n",
       "      <th>815</th>\n",
       "      <td>male</td>\n",
       "      <td>1</td>\n",
       "      <td>NaN</td>\n",
       "    </tr>\n",
       "    <tr>\n",
       "      <th>825</th>\n",
       "      <td>male</td>\n",
       "      <td>3</td>\n",
       "      <td>NaN</td>\n",
       "    </tr>\n",
       "    <tr>\n",
       "      <th>826</th>\n",
       "      <td>male</td>\n",
       "      <td>3</td>\n",
       "      <td>NaN</td>\n",
       "    </tr>\n",
       "    <tr>\n",
       "      <th>828</th>\n",
       "      <td>male</td>\n",
       "      <td>3</td>\n",
       "      <td>NaN</td>\n",
       "    </tr>\n",
       "    <tr>\n",
       "      <th>832</th>\n",
       "      <td>male</td>\n",
       "      <td>3</td>\n",
       "      <td>NaN</td>\n",
       "    </tr>\n",
       "    <tr>\n",
       "      <th>837</th>\n",
       "      <td>male</td>\n",
       "      <td>3</td>\n",
       "      <td>NaN</td>\n",
       "    </tr>\n",
       "    <tr>\n",
       "      <th>839</th>\n",
       "      <td>male</td>\n",
       "      <td>1</td>\n",
       "      <td>NaN</td>\n",
       "    </tr>\n",
       "    <tr>\n",
       "      <th>846</th>\n",
       "      <td>male</td>\n",
       "      <td>3</td>\n",
       "      <td>NaN</td>\n",
       "    </tr>\n",
       "    <tr>\n",
       "      <th>849</th>\n",
       "      <td>female</td>\n",
       "      <td>1</td>\n",
       "      <td>NaN</td>\n",
       "    </tr>\n",
       "    <tr>\n",
       "      <th>859</th>\n",
       "      <td>male</td>\n",
       "      <td>3</td>\n",
       "      <td>NaN</td>\n",
       "    </tr>\n",
       "    <tr>\n",
       "      <th>863</th>\n",
       "      <td>female</td>\n",
       "      <td>3</td>\n",
       "      <td>NaN</td>\n",
       "    </tr>\n",
       "    <tr>\n",
       "      <th>868</th>\n",
       "      <td>male</td>\n",
       "      <td>3</td>\n",
       "      <td>NaN</td>\n",
       "    </tr>\n",
       "    <tr>\n",
       "      <th>878</th>\n",
       "      <td>male</td>\n",
       "      <td>3</td>\n",
       "      <td>NaN</td>\n",
       "    </tr>\n",
       "    <tr>\n",
       "      <th>888</th>\n",
       "      <td>female</td>\n",
       "      <td>3</td>\n",
       "      <td>NaN</td>\n",
       "    </tr>\n",
       "  </tbody>\n",
       "</table>\n",
       "<p>176 rows × 3 columns</p>\n",
       "</div>"
      ],
      "text/plain": [
       "        Sex  Pclass  Age\n",
       "17     male       2  NaN\n",
       "19   female       3  NaN\n",
       "26     male       3  NaN\n",
       "28   female       3  NaN\n",
       "29     male       3  NaN\n",
       "31   female       1  NaN\n",
       "32   female       3  NaN\n",
       "36     male       3  NaN\n",
       "42     male       3  NaN\n",
       "45     male       3  NaN\n",
       "46     male       3  NaN\n",
       "47   female       3  NaN\n",
       "48     male       3  NaN\n",
       "55     male       1  NaN\n",
       "64     male       1  NaN\n",
       "65     male       3  NaN\n",
       "76     male       3  NaN\n",
       "77     male       3  NaN\n",
       "82   female       3  NaN\n",
       "87     male       3  NaN\n",
       "95     male       3  NaN\n",
       "101    male       3  NaN\n",
       "107    male       3  NaN\n",
       "109  female       3  NaN\n",
       "121    male       3  NaN\n",
       "126    male       3  NaN\n",
       "128  female       3  NaN\n",
       "140  female       3  NaN\n",
       "154    male       3  NaN\n",
       "158    male       3  NaN\n",
       "..      ...     ...  ...\n",
       "718    male       3  NaN\n",
       "727  female       3  NaN\n",
       "732    male       2  NaN\n",
       "738    male       3  NaN\n",
       "739    male       3  NaN\n",
       "740    male       1  NaN\n",
       "760    male       3  NaN\n",
       "766    male       1  NaN\n",
       "768    male       3  NaN\n",
       "773    male       3  NaN\n",
       "776    male       3  NaN\n",
       "778    male       3  NaN\n",
       "783    male       3  NaN\n",
       "790    male       3  NaN\n",
       "792  female       3  NaN\n",
       "793    male       1  NaN\n",
       "815    male       1  NaN\n",
       "825    male       3  NaN\n",
       "826    male       3  NaN\n",
       "828    male       3  NaN\n",
       "832    male       3  NaN\n",
       "837    male       3  NaN\n",
       "839    male       1  NaN\n",
       "846    male       3  NaN\n",
       "849  female       1  NaN\n",
       "859    male       3  NaN\n",
       "863  female       3  NaN\n",
       "868    male       3  NaN\n",
       "878    male       3  NaN\n",
       "888  female       3  NaN\n",
       "\n",
       "[176 rows x 3 columns]"
      ]
     },
     "execution_count": 77,
     "metadata": {},
     "output_type": "execute_result"
    }
   ],
   "source": [
    "# Check for null values\n",
    "df[df['Age'].isnull()][['Sex', 'Pclass', 'Age']]"
   ]
  },
  {
   "cell_type": "code",
   "execution_count": 78,
   "metadata": {
    "collapsed": false
   },
   "outputs": [],
   "source": [
    "# Data wrangling: drop rows where no age is recorded\n",
    "\n",
    "# create new dataframes for survivors and non-survivors without null age values\n",
    "survived = df[df[\"Survived\"] == 1].dropna(subset=[\"Age\"])\n",
    "died = df[df[\"Survived\"] == 0].dropna(subset=[\"Age\"])\n",
    "\n",
    "# create new dataframes for female and male passengers without null age values\n",
    "women = df[df[\"Sex\"] == \"female\"].dropna(subset=[\"Age\"])\n",
    "men = df[df[\"Sex\"] == \"male\"].dropna(subset=[\"Age\"])\n",
    "\n",
    "# create new dataframes for female and male survivors without null age values\n",
    "women_s = women[women[\"Survived\"] == 1].dropna(subset=[\"Age\"])\n",
    "men_s = men[men[\"Survived\"] == 1].dropna(subset=[\"Age\"])\n",
    "\n",
    "# create dataframes for first class, second class, and third class passengers without null age values\n",
    "class1 = df[df[\"Pclass\"] == 1].dropna(subset=[\"Age\"])\n",
    "class2 = df[df[\"Pclass\"] == 2].dropna(subset=[\"Age\"])\n",
    "class3 = df[df[\"Pclass\"] == 3].dropna(subset=[\"Age\"])\n",
    "\n",
    "# create dataframes for first class, second class, and third class survivors without null age values\n",
    "s1 = class1[class1[\"Survived\"] == 1].dropna(subset=[\"Age\"])\n",
    "s2 = class2[class2[\"Survived\"] == 1].dropna(subset=[\"Age\"])\n",
    "s3 = class3[class3[\"Survived\"] == 1].dropna(subset=[\"Age\"])"
   ]
  },
  {
   "cell_type": "code",
   "execution_count": 80,
   "metadata": {
    "collapsed": false
   },
   "outputs": [
    {
     "data": {
      "text/plain": [
       "<matplotlib.text.Text at 0xc4fa7f0>"
      ]
     },
     "execution_count": 80,
     "metadata": {},
     "output_type": "execute_result"
    },
    {
     "data": {
      "image/png": "[encoded data removed]",
      "text/plain": [
       "<matplotlib.figure.Figure at 0xac221d0>"
      ]
     },
     "metadata": {},
     "output_type": "display_data"
    }
   ],
   "source": [
    "# age distribution of survivors and non-survivors\n",
    "plt.subplot(121)\n",
    "survived['Age'].hist(bins=8, range=(0,80), alpha = 1)\n",
    "plt.title('Survivors')\n",
    "plt.xlabel('Age')\n",
    "plt.ylabel('number of passengers')\n",
    "\n",
    "plt.subplot(122)\n",
    "died['Age'].hist(bins=8, range=(0,80), alpha = 1)\n",
    "plt.title('Non-survivors')\n",
    "plt.xlabel('Age')\n",
    "plt.ylabel('number of passengers')"
   ]
  },
  {
   "cell_type": "code",
   "execution_count": 81,
   "metadata": {
    "collapsed": false
   },
   "outputs": [
    {
     "data": {
      "image/png": "[encoded data removed]",
      "text/plain": [
       "<matplotlib.figure.Figure at 0xc4c1f60>"
      ]
     },
     "metadata": {},
     "output_type": "display_data"
    }
   ],
   "source": [
    "# age distribution of women and men\n",
    "fig, axes = plt.subplots(nrows=2, ncols=2)\n",
    "\n",
    "plt.subplot(221)\n",
    "women['Age'].hist(bins=8, range=(0,80), alpha = 1)\n",
    "plt.title('All Female Passengers')\n",
    "plt.xlabel('Age')\n",
    "plt.ylabel('number of passengers')\n",
    "\n",
    "plt.subplot(222)\n",
    "men['Age'].hist(bins=8, range=(0,80), alpha = 1)\n",
    "plt.title('All Male Passengers')\n",
    "plt.xlabel('Age')\n",
    "plt.ylabel('number of passengers')\n",
    "\n",
    "plt.subplot(223)\n",
    "women_s['Age'].hist(bins=8, range=(0,80), alpha = 1)\n",
    "plt.title('Female Survivors')\n",
    "plt.xlabel('Age')\n",
    "plt.ylabel('number of passengers')\n",
    "\n",
    "plt.subplot(224)\n",
    "men_s['Age'].hist(bins=8, range=(0,80), alpha = 1)\n",
    "plt.title('Male Survivors')\n",
    "plt.xlabel('Age')\n",
    "plt.ylabel('number of passengers')\n",
    "\n",
    "fig.tight_layout()"
   ]
  },
  {
   "cell_type": "code",
   "execution_count": 82,
   "metadata": {
    "collapsed": false
   },
   "outputs": [
    {
     "data": {
      "image/png": "[encoded data removed]",
      "text/plain": [
       "<matplotlib.figure.Figure at 0xc0f2048>"
      ]
     },
     "metadata": {},
     "output_type": "display_data"
    }
   ],
   "source": [
    "# age distribution of survivors by passenger class\n",
    "fig, axes = plt.subplots(nrows=2, ncols=3)\n",
    "\n",
    "plt.subplot(231)\n",
    "class1['Age'].hist(bins=8, range=(0,80), alpha = 1)\n",
    "plt.title('First Class')\n",
    "plt.xlabel('Age')\n",
    "plt.ylabel('number of passengers')\n",
    "\n",
    "plt.subplot(232)\n",
    "class2['Age'].hist(bins=8, range=(0,80), alpha = 1)\n",
    "plt.title('Second Class')\n",
    "plt.xlabel('Age')\n",
    "plt.ylabel('number of passengers')\n",
    "\n",
    "plt.subplot(233)\n",
    "class3['Age'].hist(bins=8, range=(0,80), alpha = 1)\n",
    "plt.title('Third Class')\n",
    "plt.xlabel('Age')\n",
    "plt.ylabel('number of passengers')\n",
    "\n",
    "plt.subplot(234)\n",
    "s1['Age'].hist(bins=8, range=(0,80), alpha = 1)\n",
    "plt.title('First Class Survivors', y = 1.1)\n",
    "plt.xlabel('Age')\n",
    "plt.ylabel('number of passengers')\n",
    "\n",
    "plt.subplot(235)\n",
    "s2['Age'].hist(bins=8, range=(0,80), alpha = 1)\n",
    "plt.title('Second Class Survivors', y = 1.1)\n",
    "plt.xlabel('Age')\n",
    "plt.ylabel('number of passengers')\n",
    "\n",
    "plt.subplot(236)\n",
    "s3['Age'].hist(bins=8, range=(0,80), alpha = 1)\n",
    "plt.title('Third Class Survivors', y = 1.1)\n",
    "plt.xlabel('Age')\n",
    "plt.ylabel('number of passengers')\n",
    "\n",
    "fig.tight_layout()"
   ]
  },
  {
   "cell_type": "markdown",
   "metadata": {},
   "source": [
    "### The overall age distribution of survivors is skewed younger, indicating that infants and children were indeed more likely spared over older passengers.\n",
    "\n",
    "### The age distribution of female survivors does not differ much from that of all female passengers, so age did not play a significant role in terms of survival for female passengers. However, the age distribution for male survivors is heavily skewed left, showing that male children ages of 0-10 were evacuated, but many older male passengers were left behind.\n",
    "\n",
    "### The age distribution for first class passengers and first class survivors do not differ greatly. For second class passengers, however, children ages 0-10 were spared while older second class passengers were left behind. For third class passengers, the distribution of passengers is heavily skewed left, indicating that infants and young children were more likely to survive while older passengers perished.\n"
   ]
  },
  {
   "cell_type": "markdown",
   "metadata": {},
   "source": [
    "## Conclusion:\n",
    "\n",
    "### The data indicates that female and young children aboard the Titanic were far more likely to survive than adult men. Passenger class also had an effect on survival rate, with first class passengers more likely to survive than third class passengers. \n",
    "\n",
    "### This analysis was performed on a sample dataset of 891 passengers aboard the Titanic. Historically, 1502 out of 2224 passengers and crew perished on April 15, 1912 when the ship struck an iceberg in the Atlantic Ocean.\n",
    "\n",
    "### Several limitations exist for working with this dataset:\n",
    "### For example, the dataset only contained 891 of the 2224 passengers on board the Titanic. The remaining 1,333 passenger entries could lead to further insight that could change the conclusions we arrived at here. \n",
    "### Furthermore, the dataset is riddled with missing values. Null values were not an issue for survival status, gender, or passenger class, but they were an issue for age. In this instance, rows with missing age values were ommitted, but ommitting or interpolating missing values can also influence the resulting conclusion or alter the integrity of the data. \n",
    "### Lastly, the limitations of relying solely on statistical calculations without statistical testing mean we cannot quantify the statistical significance of the difference in survival rates between gender, passenger class, or age and do not have a confidence interval for how different those average survival rates are."
   ]
  },
  {
   "cell_type": "markdown",
   "metadata": {},
   "source": [
    "Resources:\n",
    "https://www.kaggle.com/c/titanic/data\n",
    "http://stackoverflow.com/questions/6541123/improve-subplot-size-spacing-with-many-subplots-in-matplotlib\n",
    "http://stackoverflow.com/questions/12750355/python-matplotlib-figure-title-overlaps-axes-label-when-using-twiny"
   ]
  }
 ],
 "metadata": {
  "kernelspec": {
   "display_name": "Python 2",
   "language": "python",
   "name": "python2"
  },
  "language_info": {
   "codemirror_mode": {
    "name": "ipython",
    "version": 2
   },
   "file_extension": ".py",
   "mimetype": "text/x-python",
   "name": "python",
   "nbconvert_exporter": "python",
   "pygments_lexer": "ipython2",
   "version": "2.7.11"
  }
 },
 "nbformat": 4,
 "nbformat_minor": 0
}
